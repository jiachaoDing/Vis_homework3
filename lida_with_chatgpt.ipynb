{
 "cells": [
  {
   "cell_type": "markdown",
   "metadata": {},
   "source": [
    "# LIDA与ChatGPT API集成示例\n",
    "使用OpenAI的API进行数据可视化"
   ]
  },
  {
   "cell_type": "code",
   "execution_count": 6,
   "metadata": {},
   "outputs": [],
   "source": [
    "import os\n",
    "import pandas as pd\n",
    "from lida import Manager, TextGenerationConfig\n",
    "from lida.components import llm"
   ]
  },
  {
   "cell_type": "markdown",
   "metadata": {},
   "source": [
    "## 1. 配置 OpenAI API"
   ]
  },
  {
   "cell_type": "code",
   "execution_count": 7,
   "metadata": {},
   "outputs": [
    {
     "name": "stdout",
     "output_type": "stream",
     "text": [
      "已从.env文件读取API令牌\n"
     ]
    }
   ],
   "source": [
    "from dotenv import load_dotenv\n",
    "\n",
    "def load_token():\n",
    "    \"\"\"从.env文件加载OpenAI API令牌\"\"\"\n",
    "    # 加载.env文件\n",
    "    load_dotenv()\n",
    "    \n",
    "    # 获取环境变量中的API令牌\n",
    "    token = os.getenv(\"OPENAI_API_KEY\")\n",
    "    \n",
    "    if token:\n",
    "        print(\"已从.env文件读取API令牌\")\n",
    "        return token\n",
    "    else:\n",
    "        raise ValueError(\"未在.env文件中找到OPENAI_API_KEY\")\n",
    "\n",
    "# 加载API令牌\n",
    "OPENAI_API_TOKEN = load_token()\n",
    "os.environ[\"OPENAI_API_KEY\"] = OPENAI_API_TOKEN"
   ]
  },
  {
   "cell_type": "markdown",
   "metadata": {},
   "source": [
    "## 2. 初始化LIDA与ChatGPT后端"
   ]
  },
  {
   "cell_type": "code",
   "execution_count": 6,
   "metadata": {},
   "outputs": [
    {
     "name": "stdout",
     "output_type": "stream",
     "text": [
      "正在初始化LIDA与ChatGPT后端...\n"
     ]
    }
   ],
   "source": [
    "print(\"正在初始化LIDA与ChatGPT后端...\")\n",
    "# 使用OpenAI API作为后端\n",
    "text_gen = llm(\n",
    "    \"openai\",  # 使用OpenAI作为provider\n",
    "    model=\"gpt-3.5-turbo\"  # 使用GPT-3.5模型\n",
    ")\n",
    "\n",
    "# 初始化LIDA管理器\n",
    "lida = Manager(text_gen=text_gen)"
   ]
  },
  {
   "cell_type": "markdown",
   "metadata": {},
   "source": [
    "## 3. 准备数据集"
   ]
  },
  {
   "cell_type": "code",
   "execution_count": 7,
   "metadata": {},
   "outputs": [
    {
     "name": "stdout",
     "output_type": "stream",
     "text": [
      "正在准备数据集...\n"
     ]
    },
    {
     "data": {
      "text/html": [
       "<div>\n",
       "<style scoped>\n",
       "    .dataframe tbody tr th:only-of-type {\n",
       "        vertical-align: middle;\n",
       "    }\n",
       "\n",
       "    .dataframe tbody tr th {\n",
       "        vertical-align: top;\n",
       "    }\n",
       "\n",
       "    .dataframe thead th {\n",
       "        text-align: right;\n",
       "    }\n",
       "</style>\n",
       "<table border=\"1\" class=\"dataframe\">\n",
       "  <thead>\n",
       "    <tr style=\"text-align: right;\">\n",
       "      <th></th>\n",
       "      <th>年份</th>\n",
       "      <th>销售额</th>\n",
       "      <th>利润</th>\n",
       "      <th>客户数</th>\n",
       "    </tr>\n",
       "  </thead>\n",
       "  <tbody>\n",
       "    <tr>\n",
       "      <th>0</th>\n",
       "      <td>2018</td>\n",
       "      <td>2500</td>\n",
       "      <td>500</td>\n",
       "      <td>150</td>\n",
       "    </tr>\n",
       "    <tr>\n",
       "      <th>1</th>\n",
       "      <td>2019</td>\n",
       "      <td>2800</td>\n",
       "      <td>550</td>\n",
       "      <td>170</td>\n",
       "    </tr>\n",
       "    <tr>\n",
       "      <th>2</th>\n",
       "      <td>2020</td>\n",
       "      <td>2200</td>\n",
       "      <td>480</td>\n",
       "      <td>155</td>\n",
       "    </tr>\n",
       "    <tr>\n",
       "      <th>3</th>\n",
       "      <td>2021</td>\n",
       "      <td>3100</td>\n",
       "      <td>600</td>\n",
       "      <td>190</td>\n",
       "    </tr>\n",
       "    <tr>\n",
       "      <th>4</th>\n",
       "      <td>2022</td>\n",
       "      <td>3500</td>\n",
       "      <td>720</td>\n",
       "      <td>210</td>\n",
       "    </tr>\n",
       "  </tbody>\n",
       "</table>\n",
       "</div>"
      ],
      "text/plain": [
       "     年份   销售额   利润  客户数\n",
       "0  2018  2500  500  150\n",
       "1  2019  2800  550  170\n",
       "2  2020  2200  480  155\n",
       "3  2021  3100  600  190\n",
       "4  2022  3500  720  210"
      ]
     },
     "execution_count": 7,
     "metadata": {},
     "output_type": "execute_result"
    }
   ],
   "source": [
    "print(\"正在准备数据集...\")\n",
    "# 方式一：使用内存中的示例数据\n",
    "sample_data = {\n",
    "    \"年份\": [2018, 2019, 2020, 2021, 2022],\n",
    "    \"销售额\": [2500, 2800, 2200, 3100, 3500],\n",
    "    \"利润\": [500, 550, 480, 600, 720],\n",
    "    \"客户数\": [150, 170, 155, 190, 210]\n",
    "}\n",
    "df = pd.DataFrame(sample_data)\n",
    "# 保存为CSV以便LIDA加载\n",
    "df.to_csv(\"sales_data.csv\", index=False)\n",
    "\n",
    "# 显示数据预览\n",
    "df.head()"
   ]
  },
  {
   "cell_type": "markdown",
   "metadata": {},
   "source": [
    "## 4. 数据总结"
   ]
  },
  {
   "cell_type": "code",
   "execution_count": 8,
   "metadata": {},
   "outputs": [
    {
     "name": "stdout",
     "output_type": "stream",
     "text": [
      "正在分析数据...\n",
      "\n",
      "===================== 数据总结 =====================\n",
      "{'name': '', 'file_name': '', 'dataset_description': '', 'fields': [{'column': '年份', 'properties': {'dtype': 'number', 'std': 1, 'min': 2018, 'max': 2022, 'samples': [2019, 2022, 2020], 'num_unique_values': 5, 'semantic_type': '', 'description': ''}}, {'column': '销售额', 'properties': {'dtype': 'number', 'std': 506, 'min': 2200, 'max': 3500, 'samples': [2800, 3500, 2200], 'num_unique_values': 5, 'semantic_type': '', 'description': ''}}, {'column': '利润', 'properties': {'dtype': 'number', 'std': 95, 'min': 480, 'max': 720, 'samples': [550, 720, 480], 'num_unique_values': 5, 'semantic_type': '', 'description': ''}}, {'column': '客户数', 'properties': {'dtype': 'number', 'std': 25, 'min': 150, 'max': 210, 'samples': [170, 210, 155], 'num_unique_values': 5, 'semantic_type': '', 'description': ''}}], 'field_names': ['年份', '销售额', '利润', '客户数']}\n"
     ]
    }
   ],
   "source": [
    "print(\"正在分析数据...\")\n",
    "summary = lida.summarize(df)\n",
    "print(\"\\n===================== 数据总结 =====================\")\n",
    "print(summary)"
   ]
  },
  {
   "cell_type": "markdown",
   "metadata": {},
   "source": [
    "## 5. 生成可视化目标"
   ]
  },
  {
   "cell_type": "code",
   "execution_count": 14,
   "metadata": {},
   "outputs": [
    {
     "name": "stdout",
     "output_type": "stream",
     "text": [
      "正在生成可视化目标...\n",
      "\n",
      "===================== 可视化目标 =====================\n"
     ]
    },
    {
     "data": {
      "text/markdown": [
       "\n",
       "### Goal 0\n",
       "---\n",
       "**Question:** How does the sales revenue vary over the years?\n",
       "\n",
       "**Visualization:** `Bar chart showing sales revenue over years`\n",
       "\n",
       "**Rationale:** By plotting the sales revenue against the years, we can identify any trends or patterns in the revenue growth or decline over time.\n"
      ],
      "text/plain": [
       "Goal(question='How does the sales revenue vary over the years?', visualization='Bar chart showing sales revenue over years', rationale='By plotting the sales revenue against the years, we can identify any trends or patterns in the revenue growth or decline over time.', index=0)"
      ]
     },
     "metadata": {},
     "output_type": "display_data"
    },
    {
     "data": {
      "text/markdown": [
       "\n",
       "### Goal 1\n",
       "---\n",
       "**Question:** What is the distribution of profits across different years?\n",
       "\n",
       "**Visualization:** `Bar chart displaying profits by year`\n",
       "\n",
       "**Rationale:** Analyzing the distribution of profits across different years can provide insights into the profitability trend and help in identifying the most profitable years.\n"
      ],
      "text/plain": [
       "Goal(question='What is the distribution of profits across different years?', visualization='Bar chart displaying profits by year', rationale='Analyzing the distribution of profits across different years can provide insights into the profitability trend and help in identifying the most profitable years.', index=1)"
      ]
     },
     "metadata": {},
     "output_type": "display_data"
    },
    {
     "data": {
      "text/markdown": [
       "\n",
       "### Goal 2\n",
       "---\n",
       "**Question:** How does the customer count change annually?\n",
       "\n",
       "**Visualization:** `Bar chart illustrating customer count by year`\n",
       "\n",
       "**Rationale:** Understanding the annual variation in customer count can help in assessing customer retention and acquisition strategies over time.\n"
      ],
      "text/plain": [
       "Goal(question='How does the customer count change annually?', visualization='Bar chart illustrating customer count by year', rationale='Understanding the annual variation in customer count can help in assessing customer retention and acquisition strategies over time.', index=2)"
      ]
     },
     "metadata": {},
     "output_type": "display_data"
    },
    {
     "data": {
      "text/markdown": [
       "\n",
       "### Goal 3\n",
       "---\n",
       "**Question:** What is the relationship between sales revenue and profits?\n",
       "\n",
       "**Visualization:** `Scatter plot of sales revenue vs. profits`\n",
       "\n",
       "**Rationale:** Examining the correlation between sales revenue and profits can reveal the effectiveness of the sales strategy and pricing in generating profits.\n"
      ],
      "text/plain": [
       "Goal(question='What is the relationship between sales revenue and profits?', visualization='Scatter plot of sales revenue vs. profits', rationale='Examining the correlation between sales revenue and profits can reveal the effectiveness of the sales strategy and pricing in generating profits.', index=3)"
      ]
     },
     "metadata": {},
     "output_type": "display_data"
    },
    {
     "data": {
      "text/markdown": [
       "\n",
       "### Goal 4\n",
       "---\n",
       "**Question:** Which year had the highest sales revenue and profits?\n",
       "\n",
       "**Visualization:** `Bar chart comparing sales revenue and profits for each year`\n",
       "\n",
       "**Rationale:** Comparing the sales revenue and profits for each year can help in identifying the most successful year in terms of revenue generation and profitability.\n"
      ],
      "text/plain": [
       "Goal(question='Which year had the highest sales revenue and profits?', visualization='Bar chart comparing sales revenue and profits for each year', rationale='Comparing the sales revenue and profits for each year can help in identifying the most successful year in terms of revenue generation and profitability.', index=4)"
      ]
     },
     "metadata": {},
     "output_type": "display_data"
    }
   ],
   "source": [
    "print(\"正在生成可视化目标...\")\n",
    "# 创建配置，指定参数\n",
    "config = TextGenerationConfig(\n",
    "    n=2,  # 生成3个可视化目标\n",
    "    temperature=0.7,  # 控制创意程度，0-1之间\n",
    "    max_tokens=200  # 每个目标的最大token数\n",
    ")\n",
    "\n",
    "# 生成可视化目标\n",
    "goals = lida.goals(\n",
    "    summary=summary,\n",
    "    textgen_config=config\n",
    ")\n",
    "\n",
    "print(\"\\n===================== 可视化目标 =====================\")\n",
    "for goal in goals:\n",
    "    display(goal)"
   ]
  },
  {
   "cell_type": "markdown",
   "metadata": {},
   "source": [
    "## 6. 为每个目标生成可视化方案"
   ]
  },
  {
   "cell_type": "code",
   "execution_count": null,
   "metadata": {},
   "outputs": [],
   "source": [
    "print(\"正在生成可视化方案...\")\n",
    "all_visualizations = []\n",
    "\n",
    "for i, goal in enumerate(goals):\n",
    "    print(f\"\\n为目标 {i+1} 生成可视化...\")\n",
    "    \n",
    "    # 为当前目标生成可视化\n",
    "    visualizations = lida.generate_viz(\n",
    "        goal=goal.text,\n",
    "        data=data,\n",
    "        summary=summary,\n",
    "        config=config\n",
    "    )\n",
    "    \n",
    "    # 添加到总列表\n",
    "    all_visualizations.extend(visualizations)\n",
    "    \n",
    "    # 输出生成的可视化数量\n",
    "    print(f\"已为目标 {i+1} 生成 {len(visualizations)} 个可视化方案\")"
   ]
  },
  {
   "cell_type": "markdown",
   "metadata": {},
   "source": [
    "## 7. 显示可视化结果"
   ]
  },
  {
   "cell_type": "code",
   "execution_count": null,
   "metadata": {},
   "outputs": [],
   "source": [
    "# 创建保存目录\n",
    "if not os.path.exists(\"visualizations\"):\n",
    "    os.makedirs(\"visualizations\")\n",
    "\n",
    "# 显示每个可视化\n",
    "for i, viz in enumerate(all_visualizations):\n",
    "    print(f\"\\n可视化 {i+1}:\")\n",
    "    # 在Jupyter中直接显示可视化\n",
    "    viz.visualize()\n",
    "    \n",
    "    # 保存为HTML文件\n",
    "    file_path = f\"visualizations/viz_{i+1}.html\"\n",
    "    viz.save(file_path)\n",
    "    print(f\"已保存到: {file_path}\")"
   ]
  },
  {
   "cell_type": "markdown",
   "metadata": {},
   "source": [
    "## 8. 生成数据洞察和可视化评论"
   ]
  },
  {
   "cell_type": "code",
   "execution_count": null,
   "metadata": {},
   "outputs": [],
   "source": [
    "print(\"正在生成数据洞察和评论...\")\n",
    "\n",
    "if len(all_visualizations) > 0:\n",
    "    # 选择第一个可视化进行评论\n",
    "    viz = all_visualizations[0]\n",
    "    \n",
    "    # 生成评论\n",
    "    comments = lida.generate_data_comments(\n",
    "        viz=viz,\n",
    "        data=data,\n",
    "        summary=summary\n",
    "    )\n",
    "    \n",
    "    print(\"\\n===================== 数据洞察 =====================\")\n",
    "    for i, comment in enumerate(comments):\n",
    "        print(f\"洞察 {i+1}: {comment.text}\")\n",
    "        print(\"-\" * 50)"
   ]
  }
 ],
 "metadata": {
  "kernelspec": {
   "display_name": "miao",
   "language": "python",
   "name": "python3"
  },
  "language_info": {
   "codemirror_mode": {
    "name": "ipython",
    "version": 3
   },
   "file_extension": ".py",
   "mimetype": "text/x-python",
   "name": "python",
   "nbconvert_exporter": "python",
   "pygments_lexer": "ipython3",
   "version": "3.11.10"
  }
 },
 "nbformat": 4,
 "nbformat_minor": 2
}
